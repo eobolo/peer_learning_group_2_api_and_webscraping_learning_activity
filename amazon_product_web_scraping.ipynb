{
  "cells": [
    {
      "cell_type": "code",
      "execution_count": 44,
      "metadata": {
        "id": "wADoWR4MZZsF"
      },
      "outputs": [],
      "source": [
        "from bs4 import BeautifulSoup\n",
        "import os\n",
        "import random\n",
        "import requests\n",
        "import urllib"
      ]
    },
    {
      "cell_type": "code",
      "execution_count": 45,
      "metadata": {
        "colab": {
          "base_uri": "https://localhost:8080/"
        },
        "id": "QQAjt-xmZlyC",
        "outputId": "10e4948e-7cfc-45a5-ac51-b77a7218a804"
      },
      "outputs": [
        {
          "name": "stdout",
          "output_type": "stream",
          "text": [
            "Enter product name: bagpack\n",
            "Enter desired quantity: 48\n"
          ]
        }
      ],
      "source": [
        "amazon_url = \"https://www.amazon.com/s\"\n",
        "product_name = input(\"Enter product name: \")\n",
        "desired_quantity = int(input(\"Enter desired quantity: \"))\n",
        "product_url_list = []\n",
        "page_number = 1"
      ]
    },
    {
      "cell_type": "code",
      "execution_count": 46,
      "metadata": {
        "id": "gFJXjf39mVtx"
      },
      "outputs": [],
      "source": [
        "payload = {\n",
        "    \"k\": product_name,\n",
        "    \"page\": 1\n",
        "}\n",
        "headers = {\n",
        "    'authority': 'www.amazon.com',\n",
        "    'method': 'GET',\n",
        "    'scheme': 'https',\n",
        "    'accept': 'text/html,application/xhtml+xml,application/xml;q=0.9,image/avif,image/webp,image/apng,*/*;q=0.8,application/signed-exchange;v=b3;q=0.7',\n",
        "    'accept-encoding': 'gzip, deflate, br, zstd',\n",
        "    'accept-language': 'en-US,en;q=0.9',\n",
        "    'cache-control': 'max-age=0',\n",
        "    'cookie': 'csm-sid=186-3980584-2379421; x-amz-captcha-1=1741130660765895; x-amz-captcha-2=6YZ4qY8UIPYguGC7asOiLg==; session-id=139-1852394-0257235; session-id-time=2082787201l; i18n-prefs=USD; sp-cdn=\"L5Z9:RW\"; skin=noskin; ubid-main=130-1299393-7564566; session-token=qPoUk7UveE4GeTKaBynbBBT7Q3V4DDqhc41IZZEwyLNinU8zbj3UCsml8G5K7kqFy43jpV1f0YWCQlFp1V2e0wtgpHK3hQTvXrp49yUU/yBoCpiyfe0dkytcm1bLqUC6eeKQ2bAZkoL+s4xMKysAXzcmXVmZROxtdUTrzoejFBIau008cPZxzWQfDl2H0/17aKttAyd2taqzZyDA0E8YNe20OSnOxPBjaEpirxUPll/0kghoJ/29ZCrDxPYPXSMJ3u3SHYPEWVHEJRJEKwTEPTIaBHHeCqWqner/T9UWr4LYexaUaY3SbNYi6uELfbZu6JgNVCZT7ZiwHsSts70qFtfc9vBYP82I; csm-hit=tb:N15AS71APPWFH1Z2MPZ6+s-N15AS71APPWFH1Z2MPZ6|1741133468596&t:1741133468596&adb:adblk_no',\n",
        "    'device-memory': '8',\n",
        "    'downlink': '6.85',\n",
        "    'dpr': '1.25',\n",
        "    'ect': '4g',\n",
        "    'priority': 'u=0, i',\n",
        "    'referer': 'https://colab.research.google.com/',\n",
        "    'rtt': '100',\n",
        "    'sec-ch-device-memory': '8',\n",
        "    'sec-ch-dpr': '1.25',\n",
        "    'sec-ch-ua': '\"Not(A:Brand\";v=\"99\", \"Google Chrome\";v=\"133\", \"Chromium\";v=\"133\"',\n",
        "    'sec-ch-ua-mobile': '?0',\n",
        "    'sec-ch-ua-platform': '\"Windows\"',\n",
        "    'sec-ch-ua-platform-version': '\"19.0.0\"',\n",
        "    'sec-ch-viewport-width': '1536',\n",
        "    'sec-fetch-dest': 'document',\n",
        "    'sec-fetch-mode': 'navigate',\n",
        "    'sec-fetch-site': 'same-origin',\n",
        "    'sec-fetch-user': '?1',\n",
        "    'upgrade-insecure-requests': '1',\n",
        "    'user-agent': 'Mozilla/5.0 (Windows NT 10.0; Win64; x64) AppleWebKit/537.36 (KHTML, like Gecko) Chrome/133.0.0.0 Safari/537.36',\n",
        "    'viewport-width': '1536'\n",
        "}"
      ]
    },
    {
      "cell_type": "code",
      "execution_count": 50,
      "metadata": {
        "id": "uyYNfFV-bXBg"
      },
      "outputs": [],
      "source": [
        "while len(product_url_list) < desired_quantity:\n",
        "  payload = {\n",
        "      \"k\": product_name,\n",
        "      \"page\": page_number\n",
        "  }\n",
        "  response = requests.get(amazon_url, params=payload, headers=headers)\n",
        "  soup = BeautifulSoup(response.text, \"html.parser\")\n",
        "  image_tags = soup.find_all(\"img\", {\"class\": \"s-image\"})\n",
        "  for image_tag in image_tags:\n",
        "    if len(product_url_list) >= desired_quantity:\n",
        "      break\n",
        "    product_url = image_tag[\"src\"]\n",
        "    product_url_list.append(product_url)\n",
        "  page_number += 1"
      ]
    }
  ],
  "metadata": {
    "colab": {
      "provenance": []
    },
    "kernelspec": {
      "display_name": "Python 3",
      "name": "python3"
    },
    "language_info": {
      "name": "python"
    }
  },
  "nbformat": 4,
  "nbformat_minor": 0
}
